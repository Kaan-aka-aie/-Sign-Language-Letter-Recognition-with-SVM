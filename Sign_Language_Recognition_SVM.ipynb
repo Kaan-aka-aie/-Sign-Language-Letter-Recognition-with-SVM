{
 "cells": [
  {
   "cell_type": "markdown",
   "id": "b9d222ae-fea9-4dcf-adda-0e53de7cae68",
   "metadata": {},
   "source": [
    "# Sign Language Recognition with MNIST Sign Language Dataset"
   ]
  },
  {
   "cell_type": "markdown",
   "id": "b98c7a85-1a7d-4019-b949-54877eb45821",
   "metadata": {},
   "source": [
    "In this notebook, several Support Vector Machines (SVM) with differenc regularization parameter C and kernel types (such as linear,polynomial, and, radial) are constructed and trained on MNIST Sign Language Dataset [1] to recognize sign language letters. The dataset includes 27455 and 7172 rows for training and testing respectively. Each row stores a vector of 784 pixels that represent 784 gray scale pixels of the immage in a flattened fashion.\n",
    "\n",
    "[1] https://www.kaggle.com/datamunge/sign-language-mnist?select=sign_mnist_train."
   ]
  },
  {
   "cell_type": "markdown",
   "id": "44adf5bd-e284-4838-a07f-70720b0fbd53",
   "metadata": {
    "tags": []
   },
   "source": [
    "### Importing Required Packages"
   ]
  },
  {
   "cell_type": "code",
   "execution_count": 1,
   "id": "competitive-herald",
   "metadata": {},
   "outputs": [],
   "source": [
    "import pandas as pd\n",
    "import numpy as np\n",
    "import datetime\n",
    "from tqdm.notebook import tqdm\n",
    "import matplotlib.pyplot as plt"
   ]
  },
  {
   "cell_type": "markdown",
   "id": "headed-accommodation",
   "metadata": {
    "tags": []
   },
   "source": [
    "### Reading the Data"
   ]
  },
  {
   "cell_type": "code",
   "execution_count": 23,
   "id": "elegant-sweden",
   "metadata": {},
   "outputs": [
    {
     "data": {
      "text/html": [
       "<div>\n",
       "<style scoped>\n",
       "    .dataframe tbody tr th:only-of-type {\n",
       "        vertical-align: middle;\n",
       "    }\n",
       "\n",
       "    .dataframe tbody tr th {\n",
       "        vertical-align: top;\n",
       "    }\n",
       "\n",
       "    .dataframe thead th {\n",
       "        text-align: right;\n",
       "    }\n",
       "</style>\n",
       "<table border=\"1\" class=\"dataframe\">\n",
       "  <thead>\n",
       "    <tr style=\"text-align: right;\">\n",
       "      <th></th>\n",
       "      <th>label</th>\n",
       "      <th>pixel1</th>\n",
       "      <th>pixel2</th>\n",
       "      <th>pixel3</th>\n",
       "      <th>pixel4</th>\n",
       "      <th>pixel5</th>\n",
       "      <th>pixel6</th>\n",
       "      <th>pixel7</th>\n",
       "      <th>pixel8</th>\n",
       "      <th>pixel9</th>\n",
       "      <th>...</th>\n",
       "      <th>pixel775</th>\n",
       "      <th>pixel776</th>\n",
       "      <th>pixel777</th>\n",
       "      <th>pixel778</th>\n",
       "      <th>pixel779</th>\n",
       "      <th>pixel780</th>\n",
       "      <th>pixel781</th>\n",
       "      <th>pixel782</th>\n",
       "      <th>pixel783</th>\n",
       "      <th>pixel784</th>\n",
       "    </tr>\n",
       "  </thead>\n",
       "  <tbody>\n",
       "    <tr>\n",
       "      <th>0</th>\n",
       "      <td>3</td>\n",
       "      <td>107</td>\n",
       "      <td>118</td>\n",
       "      <td>127</td>\n",
       "      <td>134</td>\n",
       "      <td>139</td>\n",
       "      <td>143</td>\n",
       "      <td>146</td>\n",
       "      <td>150</td>\n",
       "      <td>153</td>\n",
       "      <td>...</td>\n",
       "      <td>207</td>\n",
       "      <td>207</td>\n",
       "      <td>207</td>\n",
       "      <td>207</td>\n",
       "      <td>206</td>\n",
       "      <td>206</td>\n",
       "      <td>206</td>\n",
       "      <td>204</td>\n",
       "      <td>203</td>\n",
       "      <td>202</td>\n",
       "    </tr>\n",
       "    <tr>\n",
       "      <th>1</th>\n",
       "      <td>6</td>\n",
       "      <td>155</td>\n",
       "      <td>157</td>\n",
       "      <td>156</td>\n",
       "      <td>156</td>\n",
       "      <td>156</td>\n",
       "      <td>157</td>\n",
       "      <td>156</td>\n",
       "      <td>158</td>\n",
       "      <td>158</td>\n",
       "      <td>...</td>\n",
       "      <td>69</td>\n",
       "      <td>149</td>\n",
       "      <td>128</td>\n",
       "      <td>87</td>\n",
       "      <td>94</td>\n",
       "      <td>163</td>\n",
       "      <td>175</td>\n",
       "      <td>103</td>\n",
       "      <td>135</td>\n",
       "      <td>149</td>\n",
       "    </tr>\n",
       "    <tr>\n",
       "      <th>2</th>\n",
       "      <td>2</td>\n",
       "      <td>187</td>\n",
       "      <td>188</td>\n",
       "      <td>188</td>\n",
       "      <td>187</td>\n",
       "      <td>187</td>\n",
       "      <td>186</td>\n",
       "      <td>187</td>\n",
       "      <td>188</td>\n",
       "      <td>187</td>\n",
       "      <td>...</td>\n",
       "      <td>202</td>\n",
       "      <td>201</td>\n",
       "      <td>200</td>\n",
       "      <td>199</td>\n",
       "      <td>198</td>\n",
       "      <td>199</td>\n",
       "      <td>198</td>\n",
       "      <td>195</td>\n",
       "      <td>194</td>\n",
       "      <td>195</td>\n",
       "    </tr>\n",
       "    <tr>\n",
       "      <th>3</th>\n",
       "      <td>2</td>\n",
       "      <td>211</td>\n",
       "      <td>211</td>\n",
       "      <td>212</td>\n",
       "      <td>212</td>\n",
       "      <td>211</td>\n",
       "      <td>210</td>\n",
       "      <td>211</td>\n",
       "      <td>210</td>\n",
       "      <td>210</td>\n",
       "      <td>...</td>\n",
       "      <td>235</td>\n",
       "      <td>234</td>\n",
       "      <td>233</td>\n",
       "      <td>231</td>\n",
       "      <td>230</td>\n",
       "      <td>226</td>\n",
       "      <td>225</td>\n",
       "      <td>222</td>\n",
       "      <td>229</td>\n",
       "      <td>163</td>\n",
       "    </tr>\n",
       "    <tr>\n",
       "      <th>4</th>\n",
       "      <td>13</td>\n",
       "      <td>164</td>\n",
       "      <td>167</td>\n",
       "      <td>170</td>\n",
       "      <td>172</td>\n",
       "      <td>176</td>\n",
       "      <td>179</td>\n",
       "      <td>180</td>\n",
       "      <td>184</td>\n",
       "      <td>185</td>\n",
       "      <td>...</td>\n",
       "      <td>92</td>\n",
       "      <td>105</td>\n",
       "      <td>105</td>\n",
       "      <td>108</td>\n",
       "      <td>133</td>\n",
       "      <td>163</td>\n",
       "      <td>157</td>\n",
       "      <td>163</td>\n",
       "      <td>164</td>\n",
       "      <td>179</td>\n",
       "    </tr>\n",
       "  </tbody>\n",
       "</table>\n",
       "<p>5 rows × 785 columns</p>\n",
       "</div>"
      ],
      "text/plain": [
       "   label  pixel1  pixel2  pixel3  pixel4  pixel5  pixel6  pixel7  pixel8  \\\n",
       "0      3     107     118     127     134     139     143     146     150   \n",
       "1      6     155     157     156     156     156     157     156     158   \n",
       "2      2     187     188     188     187     187     186     187     188   \n",
       "3      2     211     211     212     212     211     210     211     210   \n",
       "4     13     164     167     170     172     176     179     180     184   \n",
       "\n",
       "   pixel9  ...  pixel775  pixel776  pixel777  pixel778  pixel779  pixel780  \\\n",
       "0     153  ...       207       207       207       207       206       206   \n",
       "1     158  ...        69       149       128        87        94       163   \n",
       "2     187  ...       202       201       200       199       198       199   \n",
       "3     210  ...       235       234       233       231       230       226   \n",
       "4     185  ...        92       105       105       108       133       163   \n",
       "\n",
       "   pixel781  pixel782  pixel783  pixel784  \n",
       "0       206       204       203       202  \n",
       "1       175       103       135       149  \n",
       "2       198       195       194       195  \n",
       "3       225       222       229       163  \n",
       "4       157       163       164       179  \n",
       "\n",
       "[5 rows x 785 columns]"
      ]
     },
     "execution_count": 23,
     "metadata": {},
     "output_type": "execute_result"
    }
   ],
   "source": [
    "train_df = pd.read_csv(\"sign_mnist_train.csv\")\n",
    "train_df.head()"
   ]
  },
  {
   "cell_type": "code",
   "execution_count": 20,
   "id": "pressed-banana",
   "metadata": {},
   "outputs": [
    {
     "data": {
      "text/html": [
       "<div>\n",
       "<style scoped>\n",
       "    .dataframe tbody tr th:only-of-type {\n",
       "        vertical-align: middle;\n",
       "    }\n",
       "\n",
       "    .dataframe tbody tr th {\n",
       "        vertical-align: top;\n",
       "    }\n",
       "\n",
       "    .dataframe thead th {\n",
       "        text-align: right;\n",
       "    }\n",
       "</style>\n",
       "<table border=\"1\" class=\"dataframe\">\n",
       "  <thead>\n",
       "    <tr style=\"text-align: right;\">\n",
       "      <th></th>\n",
       "      <th>label</th>\n",
       "      <th>pixel1</th>\n",
       "      <th>pixel2</th>\n",
       "      <th>pixel3</th>\n",
       "      <th>pixel4</th>\n",
       "      <th>pixel5</th>\n",
       "      <th>pixel6</th>\n",
       "      <th>pixel7</th>\n",
       "      <th>pixel8</th>\n",
       "      <th>pixel9</th>\n",
       "      <th>...</th>\n",
       "      <th>pixel775</th>\n",
       "      <th>pixel776</th>\n",
       "      <th>pixel777</th>\n",
       "      <th>pixel778</th>\n",
       "      <th>pixel779</th>\n",
       "      <th>pixel780</th>\n",
       "      <th>pixel781</th>\n",
       "      <th>pixel782</th>\n",
       "      <th>pixel783</th>\n",
       "      <th>pixel784</th>\n",
       "    </tr>\n",
       "  </thead>\n",
       "  <tbody>\n",
       "    <tr>\n",
       "      <th>0</th>\n",
       "      <td>6</td>\n",
       "      <td>149</td>\n",
       "      <td>149</td>\n",
       "      <td>150</td>\n",
       "      <td>150</td>\n",
       "      <td>150</td>\n",
       "      <td>151</td>\n",
       "      <td>151</td>\n",
       "      <td>150</td>\n",
       "      <td>151</td>\n",
       "      <td>...</td>\n",
       "      <td>138</td>\n",
       "      <td>148</td>\n",
       "      <td>127</td>\n",
       "      <td>89</td>\n",
       "      <td>82</td>\n",
       "      <td>96</td>\n",
       "      <td>106</td>\n",
       "      <td>112</td>\n",
       "      <td>120</td>\n",
       "      <td>107</td>\n",
       "    </tr>\n",
       "    <tr>\n",
       "      <th>1</th>\n",
       "      <td>5</td>\n",
       "      <td>126</td>\n",
       "      <td>128</td>\n",
       "      <td>131</td>\n",
       "      <td>132</td>\n",
       "      <td>133</td>\n",
       "      <td>134</td>\n",
       "      <td>135</td>\n",
       "      <td>135</td>\n",
       "      <td>136</td>\n",
       "      <td>...</td>\n",
       "      <td>47</td>\n",
       "      <td>104</td>\n",
       "      <td>194</td>\n",
       "      <td>183</td>\n",
       "      <td>186</td>\n",
       "      <td>184</td>\n",
       "      <td>184</td>\n",
       "      <td>184</td>\n",
       "      <td>182</td>\n",
       "      <td>180</td>\n",
       "    </tr>\n",
       "    <tr>\n",
       "      <th>2</th>\n",
       "      <td>10</td>\n",
       "      <td>85</td>\n",
       "      <td>88</td>\n",
       "      <td>92</td>\n",
       "      <td>96</td>\n",
       "      <td>105</td>\n",
       "      <td>123</td>\n",
       "      <td>135</td>\n",
       "      <td>143</td>\n",
       "      <td>147</td>\n",
       "      <td>...</td>\n",
       "      <td>68</td>\n",
       "      <td>166</td>\n",
       "      <td>242</td>\n",
       "      <td>227</td>\n",
       "      <td>230</td>\n",
       "      <td>227</td>\n",
       "      <td>226</td>\n",
       "      <td>225</td>\n",
       "      <td>224</td>\n",
       "      <td>222</td>\n",
       "    </tr>\n",
       "    <tr>\n",
       "      <th>3</th>\n",
       "      <td>0</td>\n",
       "      <td>203</td>\n",
       "      <td>205</td>\n",
       "      <td>207</td>\n",
       "      <td>206</td>\n",
       "      <td>207</td>\n",
       "      <td>209</td>\n",
       "      <td>210</td>\n",
       "      <td>209</td>\n",
       "      <td>210</td>\n",
       "      <td>...</td>\n",
       "      <td>154</td>\n",
       "      <td>248</td>\n",
       "      <td>247</td>\n",
       "      <td>248</td>\n",
       "      <td>253</td>\n",
       "      <td>236</td>\n",
       "      <td>230</td>\n",
       "      <td>240</td>\n",
       "      <td>253</td>\n",
       "      <td>255</td>\n",
       "    </tr>\n",
       "    <tr>\n",
       "      <th>4</th>\n",
       "      <td>3</td>\n",
       "      <td>188</td>\n",
       "      <td>191</td>\n",
       "      <td>193</td>\n",
       "      <td>195</td>\n",
       "      <td>199</td>\n",
       "      <td>201</td>\n",
       "      <td>202</td>\n",
       "      <td>203</td>\n",
       "      <td>203</td>\n",
       "      <td>...</td>\n",
       "      <td>26</td>\n",
       "      <td>40</td>\n",
       "      <td>64</td>\n",
       "      <td>48</td>\n",
       "      <td>29</td>\n",
       "      <td>46</td>\n",
       "      <td>49</td>\n",
       "      <td>46</td>\n",
       "      <td>46</td>\n",
       "      <td>53</td>\n",
       "    </tr>\n",
       "  </tbody>\n",
       "</table>\n",
       "<p>5 rows × 785 columns</p>\n",
       "</div>"
      ],
      "text/plain": [
       "   label  pixel1  pixel2  pixel3  pixel4  pixel5  pixel6  pixel7  pixel8  \\\n",
       "0      6     149     149     150     150     150     151     151     150   \n",
       "1      5     126     128     131     132     133     134     135     135   \n",
       "2     10      85      88      92      96     105     123     135     143   \n",
       "3      0     203     205     207     206     207     209     210     209   \n",
       "4      3     188     191     193     195     199     201     202     203   \n",
       "\n",
       "   pixel9  ...  pixel775  pixel776  pixel777  pixel778  pixel779  pixel780  \\\n",
       "0     151  ...       138       148       127        89        82        96   \n",
       "1     136  ...        47       104       194       183       186       184   \n",
       "2     147  ...        68       166       242       227       230       227   \n",
       "3     210  ...       154       248       247       248       253       236   \n",
       "4     203  ...        26        40        64        48        29        46   \n",
       "\n",
       "   pixel781  pixel782  pixel783  pixel784  \n",
       "0       106       112       120       107  \n",
       "1       184       184       182       180  \n",
       "2       226       225       224       222  \n",
       "3       230       240       253       255  \n",
       "4        49        46        46        53  \n",
       "\n",
       "[5 rows x 785 columns]"
      ]
     },
     "execution_count": 20,
     "metadata": {},
     "output_type": "execute_result"
    }
   ],
   "source": [
    "test_df = pd.read_csv(\"sign_mnist_test.csv\")\n",
    "test_df.head()"
   ]
  },
  {
   "cell_type": "code",
   "execution_count": 4,
   "id": "least-binary",
   "metadata": {},
   "outputs": [
    {
     "data": {
      "text/plain": [
       "(24,)"
      ]
     },
     "execution_count": 4,
     "metadata": {},
     "output_type": "execute_result"
    }
   ],
   "source": [
    "categories = train_df[\"label\"].unique()\n",
    "categories.sort()\n",
    "categories.shape"
   ]
  },
  {
   "cell_type": "markdown",
   "id": "a90bb76a-3845-481a-b951-1c9c4369f538",
   "metadata": {
    "tags": []
   },
   "source": [
    "### Class Distribution"
   ]
  },
  {
   "cell_type": "markdown",
   "id": "ee16a5ef-8d7b-425a-9fef-04b553f03bb7",
   "metadata": {},
   "source": [
    "Here we check the histogram to get an idea about the class distribution."
   ]
  },
  {
   "cell_type": "code",
   "execution_count": 5,
   "id": "3ef3f8cc-d1aa-400a-b1f3-b39826259b14",
   "metadata": {},
   "outputs": [
    {
     "data": {
      "image/png": "[encoded data removed]",
      "text/plain": [
       "<Figure size 432x288 with 1 Axes>"
      ]
     },
     "metadata": {
      "needs_background": "light"
     },
     "output_type": "display_data"
    }
   ],
   "source": [
    "histo = plt.hist(train_df[\"label\"],bins=24)\n",
    "plt.show()"
   ]
  },
  {
   "cell_type": "code",
   "execution_count": 6,
   "id": "607acce6-7019-4453-9b55-1b1237ae5ad7",
   "metadata": {},
   "outputs": [
    {
     "data": {
      "text/plain": [
       "(1143.9583333333333, 339.36588897121385, 2282.0, 0.0)"
      ]
     },
     "execution_count": 6,
     "metadata": {},
     "output_type": "execute_result"
    }
   ],
   "source": [
    "histo[0].mean(), histo[0].std(), histo[0].max(), histo[0].min()"
   ]
  },
  {
   "cell_type": "markdown",
   "id": "317448da-c630-47d4-9543-2cae2a40a28f",
   "metadata": {},
   "source": [
    "### Chi-Square Test to Check Uniformity of the Class Distribution"
   ]
  },
  {
   "cell_type": "markdown",
   "id": "5558e2f2-4715-4d7d-9b28-0ad30a0a9888",
   "metadata": {},
   "source": [
    "#### To see if the uniformity of the class distribution is *STATISTICALLY SIGNIFICANT* we apply a Chi-Square test on the data."
   ]
  },
  {
   "cell_type": "markdown",
   "id": "3952b466-2afc-44b2-be80-e16f7cc200a9",
   "metadata": {},
   "source": [
    "H0: The class distribution in the dataset is uniform. (i.e. uniformity is statistically significant.)\n",
    "\n",
    "Ha: The class distribution in the dataset is not uniform. (i.e. uniformity is not statistically significant.)"
   ]
  },
  {
   "cell_type": "code",
   "execution_count": 7,
   "id": "e6f4eebf-6b17-4c29-8181-04d81fc3b6ce",
   "metadata": {},
   "outputs": [
    {
     "name": "stdout",
     "output_type": "stream",
     "text": [
      "Chi_0: Power_divergenceResult(statistic=141.05142961209253, pvalue=5.915437888204953e-19)\n",
      "Chi_0025_n: 27840.563279483347\n"
     ]
    }
   ],
   "source": [
    "from scipy.stats import chisquare, chi2\n",
    "\n",
    "unique_labels, counts = np.unique(train_df[\"label\"], return_counts = True)\n",
    "expected_freq = train_df[\"label\"].shape[0]/unique_labels.shape[0]\n",
    "\n",
    "chi_0 = chisquare(counts,expected_freq)\n",
    "chi_0025_n = chi2.ppf(1 - .05, df = train_df.shape[0] - 1)\n",
    "print(\"Chi_0:\", chi_0)\n",
    "print(\"Chi_0025_n:\", chi_0025_n) "
   ]
  },
  {
   "cell_type": "markdown",
   "id": "4ccf9d5a-faca-46a8-815d-84c7b7b4cedb",
   "metadata": {},
   "source": [
    "Since chi_0 is smaller than chi_0025_n we failed to reject our null hypothesis. The class distribution in the dataset is uniform with *0.95* confidence."
   ]
  },
  {
   "cell_type": "markdown",
   "id": "radical-keyboard",
   "metadata": {},
   "source": [
    "### Preprocessing the Data"
   ]
  },
  {
   "cell_type": "markdown",
   "id": "63cfa255-790d-4b8d-89f1-a073a9d8adc6",
   "metadata": {},
   "source": [
    "### MinMax Scaling"
   ]
  },
  {
   "cell_type": "markdown",
   "id": "09ee0a76-6ef4-40ae-858e-8938c7002804",
   "metadata": {},
   "source": [
    "In the below cells, train and test data are MinMax scaled and shuffled simultaneously to avoid class imbalances in different regions of the training set."
   ]
  },
  {
   "cell_type": "code",
   "execution_count": 24,
   "id": "classified-sending",
   "metadata": {},
   "outputs": [],
   "source": [
    "from sklearn.preprocessing import MinMaxScaler\n",
    "train_df = train_df.sample(frac=1)\n",
    "scaler = MinMaxScaler()\n",
    "x_train = scaler.fit_transform(train_df.iloc[:,1:])\n",
    "y_train = train_df.iloc[:,0]"
   ]
  },
  {
   "cell_type": "code",
   "execution_count": 25,
   "id": "moderate-finish",
   "metadata": {
    "tags": []
   },
   "outputs": [],
   "source": [
    "test_df = test_df.sample(frac=1)\n",
    "x_test =  scaler.fit_transform(test_df.iloc[:,1:])\n",
    "y_test = test_df.iloc[:,0]"
   ]
  },
  {
   "cell_type": "markdown",
   "id": "d5a24510-7fe9-4baa-b2da-160cd9d91f63",
   "metadata": {},
   "source": [
    "### Principle Component Analysis (PCA)"
   ]
  },
  {
   "cell_type": "markdown",
   "id": "69aa19b6-1fb9-417c-8b48-dde010751b4d",
   "metadata": {},
   "source": [
    "Below, we apply principle component analysis on data to be able to simplify the feature dimensions of the data without loosing too much variance (information) since we will need shorter computation times and less memory to try different models with different regularization parameters and kernels. "
   ]
  },
  {
   "cell_type": "code",
   "execution_count": 26,
   "id": "7f74761c-60a8-45f4-bb8a-e06d1e9f6c48",
   "metadata": {},
   "outputs": [],
   "source": [
    "from sklearn.decomposition import PCA\n",
    "\n",
    "display_df = x_test.copy()\n",
    "pca = PCA(n_components=20)\n",
    "x_train = pca.fit_transform(x_train)\n",
    "x_test = pca.transform(x_test)"
   ]
  },
  {
   "cell_type": "markdown",
   "id": "regular-sight",
   "metadata": {},
   "source": [
    "### Training Different Models"
   ]
  },
  {
   "cell_type": "code",
   "execution_count": 12,
   "id": "driven-bathroom",
   "metadata": {},
   "outputs": [
    {
     "data": {
      "application/vnd.jupyter.widget-view+json": {
       "model_id": "3df4e56b6c7349da9e22b445c4f5afdb",
       "version_major": 2,
       "version_minor": 0
      },
      "text/plain": [
       "  0%|          | 0/4 [00:00<?, ?it/s]"
      ]
     },
     "metadata": {},
     "output_type": "display_data"
    },
    {
     "name": "stdout",
     "output_type": "stream",
     "text": [
      "-------------------\n",
      "For the SVM with C = 0.01 and kernel = linear\n",
      "Acc. in 7172 test samples: %65.0446179587284\n",
      "-------------------\n",
      "-------------------\n",
      "For the SVM with C = 0.01 and kernel = poly\n",
      "Acc. in 7172 test samples: %25.711098717233686\n",
      "-------------------\n",
      "-------------------\n",
      "For the SVM with C = 0.01 and kernel = rbf\n",
      "Acc. in 7172 test samples: %36.126603457891804\n",
      "-------------------\n",
      "-------------------\n",
      "For the SVM with C = 0.1 and kernel = linear\n",
      "Acc. in 7172 test samples: %72.99219185722254\n",
      "-------------------\n",
      "-------------------\n",
      "For the SVM with C = 0.1 and kernel = poly\n",
      "Acc. in 7172 test samples: %52.88622420524261\n",
      "-------------------\n",
      "-------------------\n",
      "For the SVM with C = 0.1 and kernel = rbf\n",
      "Acc. in 7172 test samples: %67.59620747350809\n",
      "-------------------\n",
      "-------------------\n",
      "For the SVM with C = 1 and kernel = linear\n",
      "Acc. in 7172 test samples: %73.22922476296709\n",
      "-------------------\n",
      "-------------------\n",
      "For the SVM with C = 1 and kernel = poly\n",
      "Acc. in 7172 test samples: %75.15337423312883\n",
      "-------------------\n",
      "-------------------\n",
      "For the SVM with C = 1 and kernel = rbf\n",
      "Acc. in 7172 test samples: %83.17066369213609\n",
      "-------------------\n",
      "-------------------\n",
      "For the SVM with C = 10 and kernel = linear\n",
      "Acc. in 7172 test samples: %71.87674288901283\n",
      "-------------------\n",
      "-------------------\n",
      "For the SVM with C = 10 and kernel = poly\n",
      "Acc. in 7172 test samples: %80.53541550474066\n",
      "-------------------\n",
      "-------------------\n",
      "For the SVM with C = 10 and kernel = rbf\n",
      "Acc. in 7172 test samples: %85.69436698271055\n",
      "-------------------\n"
     ]
    }
   ],
   "source": [
    "from sklearn import svm\n",
    "TRAIN_LEN = x_train.shape[0]\n",
    "TEST_LEN = x_test.shape[0]\n",
    "c = [0.01,0.1,1,10]\n",
    "kernels = ['linear', 'poly', 'rbf']\n",
    "\n",
    "\n",
    "for i in tqdm(range(len(c))):\n",
    "    for j in range(len(kernels)):\n",
    "        clf = svm.SVC(C = c[i], kernel = kernels[j])\n",
    "        clf.fit(x_train[:TRAIN_LEN],y_train.iloc[:TRAIN_LEN],)\n",
    "        pred = clf.predict(x_test[:TEST_LEN])\n",
    "        print(\"-------------------\")\n",
    "        print(\"For the SVM with C = \" + str(c[i]) + \" and kernel = \" + kernels[j])  \n",
    "        print(\"Acc. in \" + str(TEST_LEN) + \" test samples: \"  + \"%\" + str(100 * np.array([pred == y_test.iloc[:TEST_LEN]]).sum()/TEST_LEN))\n",
    "        print(\"-------------------\")"
   ]
  },
  {
   "cell_type": "markdown",
   "id": "demonstrated-certification",
   "metadata": {},
   "source": [
    "### Testing a Single Sample With Visualization Using PIL"
   ]
  },
  {
   "cell_type": "code",
   "execution_count": 13,
   "id": "frequent-overview",
   "metadata": {},
   "outputs": [],
   "source": [
    "import matplotlib.pyplot as plt\n",
    "from PIL import Image\n",
    "from matplotlib.pyplot import imshow"
   ]
  },
  {
   "cell_type": "code",
   "execution_count": 29,
   "id": "driven-parking",
   "metadata": {},
   "outputs": [
    {
     "name": "stdout",
     "output_type": "stream",
     "text": [
      "--------------\n",
      "The model predicted this instance as label 1\n",
      "--------------\n",
      "Where its label is 2\n"
     ]
    },
    {
     "data": {
      "image/png": "[encoded data removed]",
      "text/plain": [
       "<Figure size 432x288 with 1 Axes>"
      ]
     },
     "metadata": {
      "needs_background": "light"
     },
     "output_type": "display_data"
    }
   ],
   "source": [
    "instance = 81 \n",
    "a = display_df[instance].reshape(1,-1)\n",
    "a_image = a.reshape((28,28))\n",
    "\n",
    "a1 = x_test[instance].reshape(1,-1)\n",
    "pred_a = clf.predict(a1)\n",
    "im = Image.fromarray((a_image.astype(np.uint8)))\n",
    "\n",
    "imshow(np.asarray(a_image))\n",
    "print(\"--------------\")\n",
    "print(\"The model predicted this instance as label\", pred[instance])\n",
    "print(\"--------------\")\n",
    "print(\"Where its label is\", y_test.iloc[instance])"
   ]
  },
  {
   "cell_type": "code",
   "execution_count": 18,
   "id": "369574bf-b151-4276-b383-dabe23109a6a",
   "metadata": {},
   "outputs": [
    {
     "data": {
      "text/plain": [
       "array([-0.0392234 , -1.64823847, -0.65144997,  1.20619228, -1.68581645,\n",
       "        0.06037758, -0.49309615, -1.56860285,  1.3901019 ,  1.10975036,\n",
       "       -0.21566497,  1.47825759, -0.01477514,  0.38056549, -0.05222919,\n",
       "       -0.14721064, -0.59952072, -0.32814961,  0.62114819, -0.11193795])"
      ]
     },
     "execution_count": 18,
     "metadata": {},
     "output_type": "execute_result"
    }
   ],
   "source": [
    "x_test[1]"
   ]
  },
  {
   "cell_type": "markdown",
   "id": "4f3ee133-68b4-4e45-8847-b24a7a86b141",
   "metadata": {},
   "source": [
    "## Confusion Matrix and Different Accuracy Parameters"
   ]
  },
  {
   "cell_type": "code",
   "execution_count": null,
   "id": "195361e8-d979-4f19-af28-e765d24b9114",
   "metadata": {},
   "outputs": [],
   "source": [
    "from sklearn.metrics import classification_report\n",
    "print(classification_report(y_test.to_numpy(), pred))"
   ]
  }
 ],
 "metadata": {
  "kernelspec": {
   "display_name": "Python 3",
   "language": "python",
   "name": "python3"
  },
  "language_info": {
   "codemirror_mode": {
    "name": "ipython",
    "version": 3
   },
   "file_extension": ".py",
   "mimetype": "text/x-python",
   "name": "python",
   "nbconvert_exporter": "python",
   "pygments_lexer": "ipython3",
   "version": "3.9.1"
  }
 },
 "nbformat": 4,
 "nbformat_minor": 5
}
